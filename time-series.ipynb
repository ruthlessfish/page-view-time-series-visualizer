{
 "cells": [
  {
   "cell_type": "code",
   "execution_count": 1,
   "metadata": {},
   "outputs": [],
   "source": [
    "import matplotlib.pyplot as plt\n",
    "import pandas as pd\n",
    "import seaborn as sns\n",
    "from pandas.plotting import register_matplotlib_converters\n",
    "register_matplotlib_converters()\n"
   ]
  },
  {
   "cell_type": "code",
   "execution_count": 2,
   "metadata": {},
   "outputs": [],
   "source": [
    "df = pd.read_csv('fcc-forum-pageviews.csv',\n",
    "                 parse_dates=['date'], \n",
    "                 index_col='date', \n",
    "                 header=0, \n",
    "                 names=['date', 'page_views'])"
   ]
  },
  {
   "cell_type": "code",
   "execution_count": 3,
   "metadata": {},
   "outputs": [
    {
     "data": {
      "text/html": [
       "<div>\n",
       "<style scoped>\n",
       "    .dataframe tbody tr th:only-of-type {\n",
       "        vertical-align: middle;\n",
       "    }\n",
       "\n",
       "    .dataframe tbody tr th {\n",
       "        vertical-align: top;\n",
       "    }\n",
       "\n",
       "    .dataframe thead th {\n",
       "        text-align: right;\n",
       "    }\n",
       "</style>\n",
       "<table border=\"1\" class=\"dataframe\">\n",
       "  <thead>\n",
       "    <tr style=\"text-align: right;\">\n",
       "      <th></th>\n",
       "      <th>page_views</th>\n",
       "    </tr>\n",
       "    <tr>\n",
       "      <th>date</th>\n",
       "      <th></th>\n",
       "    </tr>\n",
       "  </thead>\n",
       "  <tbody>\n",
       "    <tr>\n",
       "      <th>2016-05-19</th>\n",
       "      <td>19736</td>\n",
       "    </tr>\n",
       "    <tr>\n",
       "      <th>2016-05-26</th>\n",
       "      <td>18060</td>\n",
       "    </tr>\n",
       "    <tr>\n",
       "      <th>2016-05-27</th>\n",
       "      <td>19997</td>\n",
       "    </tr>\n",
       "    <tr>\n",
       "      <th>2016-05-28</th>\n",
       "      <td>19044</td>\n",
       "    </tr>\n",
       "    <tr>\n",
       "      <th>2016-05-29</th>\n",
       "      <td>20325</td>\n",
       "    </tr>\n",
       "    <tr>\n",
       "      <th>...</th>\n",
       "      <td>...</td>\n",
       "    </tr>\n",
       "    <tr>\n",
       "      <th>2019-11-24</th>\n",
       "      <td>138875</td>\n",
       "    </tr>\n",
       "    <tr>\n",
       "      <th>2019-11-29</th>\n",
       "      <td>171584</td>\n",
       "    </tr>\n",
       "    <tr>\n",
       "      <th>2019-11-30</th>\n",
       "      <td>141161</td>\n",
       "    </tr>\n",
       "    <tr>\n",
       "      <th>2019-12-01</th>\n",
       "      <td>142918</td>\n",
       "    </tr>\n",
       "    <tr>\n",
       "      <th>2019-12-03</th>\n",
       "      <td>158549</td>\n",
       "    </tr>\n",
       "  </tbody>\n",
       "</table>\n",
       "<p>1238 rows × 1 columns</p>\n",
       "</div>"
      ],
      "text/plain": [
       "            page_views\n",
       "date                  \n",
       "2016-05-19       19736\n",
       "2016-05-26       18060\n",
       "2016-05-27       19997\n",
       "2016-05-28       19044\n",
       "2016-05-29       20325\n",
       "...                ...\n",
       "2019-11-24      138875\n",
       "2019-11-29      171584\n",
       "2019-11-30      141161\n",
       "2019-12-01      142918\n",
       "2019-12-03      158549\n",
       "\n",
       "[1238 rows x 1 columns]"
      ]
     },
     "execution_count": 3,
     "metadata": {},
     "output_type": "execute_result"
    }
   ],
   "source": [
    "min_page_views = df['page_views'].quantile(0.025)\n",
    "max_page_views = df['page_views'].quantile(0.975)\n",
    "df = df[df['page_views'].between(min_page_views, max_page_views)]"
   ]
  },
  {
   "cell_type": "code",
   "execution_count": null,
   "metadata": {},
   "outputs": [],
   "source": [
    "def draw_line_plot():\n",
    "    s"
   ]
  },
  {
   "cell_type": "code",
   "execution_count": null,
   "metadata": {},
   "outputs": [],
   "source": [
    "# draw_line_plot()"
   ]
  },
  {
   "cell_type": "code",
   "execution_count": null,
   "metadata": {},
   "outputs": [],
   "source": [
    "def draw_bar_plot():\n",
    "    months = ['January', 'February', 'March', 'April', 'May', 'June', 'July', 'August', 'September', 'October', 'November', 'December']\n",
    "\n",
    "    # Copy and modify data for monthly bar plot\n",
    "    df_bar = df.copy()\n",
    "    df_bar['year'] = df_bar.index.strftime('%Y')\n",
    "    df_bar['month'] = df_bar.index.strftime('%B').astype('category')\n",
    "    df_bar['month'] = df_bar['month'].cat.set_categories(months, ordered=True)\n",
    "    df_bar = df_bar.groupby(['year', 'month'], sort=False, observed=True)['page_views'].mean().reset_index()\n",
    "\n",
    "    # Draw bar plot\n",
    "    fig, ax = plt.subplots(figsize=(8, 8))\n",
    "    sns.barplot(x='year', \n",
    "                y='page_views', \n",
    "                data=df_bar, \n",
    "                hue='month', \n",
    "                palette='tab20', \n",
    "                ax=ax)\n",
    "    ax.set_xlabel('Years')\n",
    "    ax.set_ylabel('Average Page Views')\n",
    "    ax.legend(loc='upper left')\n",
    "\n",
    "    # Save image and return fig (don't change this part)\n",
    "    fig.savefig('bar_plot.png')\n",
    "    return fig"
   ]
  },
  {
   "cell_type": "code",
   "execution_count": null,
   "metadata": {},
   "outputs": [],
   "source": [
    "# draw_bar_plot()"
   ]
  },
  {
   "cell_type": "code",
   "execution_count": null,
   "metadata": {},
   "outputs": [],
   "source": [
    "def draw_box_plot():\n",
    "    # Prepare data for box plots (this part is done!)\n",
    "    df_box = df.copy()\n",
    "    df_box.reset_index(inplace=True)\n",
    "    df_box['year'] = [d.year for d in df_box.date]\n",
    "    df_box['month'] = [d.strftime('%b') for d in df_box.date]\n",
    "\n",
    "    # Draw box plots (using Seaborn)\n",
    "    months = ['Jan', 'Feb', 'Mar', 'Apr', 'May', 'Jun', 'Jul', 'Aug', 'Sep', 'Oct', 'Nov', 'Dec']\n",
    "    fig, (ax1, ax2) = plt.subplots(nrows=1, ncols=2, figsize=(28, 10))\n",
    "    sns.boxplot(x='year', \n",
    "                y='page_views', \n",
    "                data=df_box, \n",
    "                palette='tab10',\n",
    "                ax=ax1)\n",
    "\n",
    "    sns.boxplot(x='month', \n",
    "                y='page_views', \n",
    "                data=df_box, \n",
    "                palette='tab10',\n",
    "                ax=ax2, \n",
    "                order=months)\n",
    "\n",
    "    ax1.set_title('Year-wise Box Plot (Trend)')\n",
    "    ax1.set_xlabel('Year')\n",
    "    ax1.set_ylabel('Page Views')\n",
    "    ax2.set_title('Month-wise Box Plot (Seasonality)')\n",
    "    ax2.set_xlabel('Month')\n",
    "    ax2.set_ylabel('Page Views')\n",
    "\n",
    "    # Save image and return fig (don't change this part)\n",
    "    # fig.savefig('box_plot.png')\n",
    "    return fig"
   ]
  },
  {
   "cell_type": "code",
   "execution_count": null,
   "metadata": {},
   "outputs": [],
   "source": [
    "draw_box_plot()"
   ]
  },
  {
   "cell_type": "code",
   "execution_count": null,
   "metadata": {},
   "outputs": [],
   "source": []
  }
 ],
 "metadata": {
  "kernelspec": {
   "display_name": "fcc",
   "language": "python",
   "name": "python3"
  },
  "language_info": {
   "codemirror_mode": {
    "name": "ipython",
    "version": 3
   },
   "file_extension": ".py",
   "mimetype": "text/x-python",
   "name": "python",
   "nbconvert_exporter": "python",
   "pygments_lexer": "ipython3",
   "version": "3.12.2"
  }
 },
 "nbformat": 4,
 "nbformat_minor": 2
}
